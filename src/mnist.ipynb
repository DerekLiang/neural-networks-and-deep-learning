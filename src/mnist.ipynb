{
 "cells": [
  {
   "cell_type": "markdown",
   "metadata": {},
   "source": [
    "# Learning NN with MNIST Dataset"
   ]
  },
  {
   "cell_type": "code",
   "execution_count": 2,
   "metadata": {},
   "outputs": [],
   "source": [
    "# Put these at the top of every notebook, to get automatic reloading and inline plotting\n",
    "%reload_ext autoreload\n",
    "%autoreload 2\n",
    "%matplotlib inline\n",
    "\n",
    "import matplotlib.pyplot as plt\n",
    "import numpy as np\n",
    "from random import *\n",
    "\n",
    "import torch\n",
    "import torchvision\n",
    "import torchvision.transforms as transforms\n",
    "\n",
    "from torch.autograd import Variable\n",
    "import torch.nn as nn\n",
    "import torch.nn.functional as F\n",
    "import torch.optim as optim\n"
   ]
  },
  {
   "cell_type": "code",
   "execution_count": 3,
   "metadata": {},
   "outputs": [
    {
     "name": "stdout",
     "output_type": "stream",
     "text": [
      "Mnist(\n",
      "  (fc1): Linear(in_features=784, out_features=100)\n",
      "  (fc2): Linear(in_features=100, out_features=10)\n",
      ")\n"
     ]
    }
   ],
   "source": [
    "#define out network\n",
    "class Mnist(nn.Module):\n",
    "\n",
    "    def __init__(self):\n",
    "        super(Mnist, self).__init__()\n",
    "        # an affine operation: y = Wx + b\n",
    "        self.fc1 = nn.Linear(784, 100)\n",
    "        self.fc2 = nn.Linear(100, 10)\n",
    "\n",
    "    def forward(self, x):\n",
    "        x = self.fc1(x)\n",
    "        x = F.sigmoid(x)\n",
    "        x = self.fc2(x)\n",
    "        x = F.sigmoid(x)\n",
    "        return x\n",
    "    \n",
    "net = Mnist()\n",
    "print(net)\n"
   ]
  },
  {
   "cell_type": "markdown",
   "metadata": {},
   "source": [
    "## Test our network with random data and get it to learn something"
   ]
  },
  {
   "cell_type": "code",
   "execution_count": 4,
   "metadata": {},
   "outputs": [
    {
     "name": "stdout",
     "output_type": "stream",
     "text": [
      "before optimize Variable containing:\n",
      " 33.1976\n",
      "[torch.FloatTensor of size 1]\n",
      "\n"
     ]
    }
   ],
   "source": [
    "input = Variable(torch.randn(1, 1, 784))\n",
    "target = Variable(torch.arange(1, 11))  \n",
    "\n",
    "optimizer = optim.SGD(net.parameters(), lr=0.01)\n",
    "optimizer.zero_grad()   \n",
    "output = net(input)\n",
    "criterion = nn.MSELoss()\n",
    "loss = criterion(output, target)\n",
    "print('before optimize', loss)\n",
    "loss.backward() # calculate gradient\n",
    "optimizer.step() # update weight\n"
   ]
  },
  {
   "cell_type": "code",
   "execution_count": 5,
   "metadata": {},
   "outputs": [
    {
     "name": "stdout",
     "output_type": "stream",
     "text": [
      "after optimize Variable containing:\n",
      " 32.8707\n",
      "[torch.FloatTensor of size 1]\n",
      "\n"
     ]
    }
   ],
   "source": [
    "output = net(input)\n",
    "criterion = nn.MSELoss()\n",
    "loss = criterion(output, target)\n",
    "print('after optimize', loss) # it number is smaller than before, therefore the network is learning something\n"
   ]
  },
  {
   "cell_type": "code",
   "execution_count": 6,
   "metadata": {},
   "outputs": [
    {
     "name": "stdout",
     "output_type": "stream",
     "text": [
      "<MseLossBackward object at 0x0000016A11DD0828>\n",
      "<SigmoidBackward0 object at 0x0000016A11DD09E8>\n",
      "<AddBackward1 object at 0x0000016A11DD0828>\n"
     ]
    }
   ],
   "source": [
    "#we can trace the loss.grade_fn backwards through the network.\n",
    "print(loss.grad_fn)  # MSELoss\n",
    "print(loss.grad_fn.next_functions[0][0])  # Linear\n",
    "print(loss.grad_fn.next_functions[0][0].next_functions[0][0])  # ReLU"
   ]
  },
  {
   "cell_type": "code",
   "execution_count": 7,
   "metadata": {},
   "outputs": [],
   "source": [
    "from sklearn.datasets import fetch_mldata\n",
    "mnist = fetch_mldata('MNIST original', data_home=\"../data\")\n"
   ]
  },
  {
   "cell_type": "code",
   "execution_count": 8,
   "metadata": {},
   "outputs": [
    {
     "data": {
      "text/plain": [
       "{'COL_NAMES': ['label', 'data'],\n",
       " 'DESCR': 'mldata.org dataset: mnist-original',\n",
       " 'data': array([[0, 0, 0, ..., 0, 0, 0],\n",
       "        [0, 0, 0, ..., 0, 0, 0],\n",
       "        [0, 0, 0, ..., 0, 0, 0],\n",
       "        ...,\n",
       "        [0, 0, 0, ..., 0, 0, 0],\n",
       "        [0, 0, 0, ..., 0, 0, 0],\n",
       "        [0, 0, 0, ..., 0, 0, 0]], dtype=uint8),\n",
       " 'target': array([0., 0., 0., ..., 9., 9., 9.])}"
      ]
     },
     "execution_count": 8,
     "metadata": {},
     "output_type": "execute_result"
    }
   ],
   "source": [
    "mnist"
   ]
  },
  {
   "cell_type": "code",
   "execution_count": 9,
   "metadata": {},
   "outputs": [
    {
     "data": {
      "text/plain": [
       "70000"
      ]
     },
     "execution_count": 9,
     "metadata": {},
     "output_type": "execute_result"
    }
   ],
   "source": [
    "len(mnist.data)"
   ]
  },
  {
   "cell_type": "code",
   "execution_count": 10,
   "metadata": {},
   "outputs": [
    {
     "data": {
      "text/plain": [
       "70000"
      ]
     },
     "execution_count": 10,
     "metadata": {},
     "output_type": "execute_result"
    }
   ],
   "source": [
    "len(mnist.target)"
   ]
  },
  {
   "cell_type": "code",
   "execution_count": 11,
   "metadata": {},
   "outputs": [
    {
     "data": {
      "text/plain": [
       "784"
      ]
     },
     "execution_count": 11,
     "metadata": {},
     "output_type": "execute_result"
    }
   ],
   "source": [
    "len(mnist.data[0])"
   ]
  },
  {
   "cell_type": "code",
   "execution_count": 12,
   "metadata": {},
   "outputs": [
    {
     "data": {
      "text/plain": [
       "(array([ 6903.,  7877.,  6990.,  7141.,  6824.,  6313.,  6876.,  7293.,\n",
       "        13783.]),\n",
       " array([0, 1, 2, 3, 4, 5, 6, 7, 8, 9]),\n",
       " <a list of 9 Patch objects>)"
      ]
     },
     "execution_count": 12,
     "metadata": {},
     "output_type": "execute_result"
    },
    {
     "data": {
      "image/png": "[encoded data removed]",
      "text/plain": [
       "<matplotlib.figure.Figure at 0x16a198b7668>"
      ]
     },
     "metadata": {},
     "output_type": "display_data"
    }
   ],
   "source": [
    "plt.hist(mnist.target, bins=range(10))"
   ]
  },
  {
   "cell_type": "code",
   "execution_count": 13,
   "metadata": {},
   "outputs": [
    {
     "data": {
      "image/png": "[encoded data removed]",
      "text/plain": [
       "<matplotlib.figure.Figure at 0x16a1cdef160>"
      ]
     },
     "metadata": {},
     "output_type": "display_data"
    }
   ],
   "source": [
    "w=10\n",
    "h=10\n",
    "fig=plt.figure(figsize=(8, 8))\n",
    "columns = 4\n",
    "rows = 5\n",
    "for i in range(1, columns*rows +1):\n",
    "    idx = randint(0, 70000)\n",
    "    img =  mnist.data[idx].reshape((28,28))\n",
    "    sp = fig.add_subplot(rows, columns , i)\n",
    "    sp.axis('Off')\n",
    "    sp.set_title(int(mnist.target[idx]), fontsize=16)\n",
    "    fig.add_subplot(rows, columns, i)\n",
    "    plt.imshow(img, cmap='gray_r')\n",
    "\n"
   ]
  },
  {
   "cell_type": "code",
   "execution_count": 14,
   "metadata": {},
   "outputs": [
    {
     "data": {
      "text/plain": [
       "784"
      ]
     },
     "execution_count": 14,
     "metadata": {},
     "output_type": "execute_result"
    }
   ],
   "source": [
    "len(mnist.data[0])"
   ]
  },
  {
   "cell_type": "code",
   "execution_count": 15,
   "metadata": {},
   "outputs": [
    {
     "data": {
      "text/plain": [
       "784"
      ]
     },
     "execution_count": 15,
     "metadata": {},
     "output_type": "execute_result"
    }
   ],
   "source": [
    "28*28"
   ]
  },
  {
   "cell_type": "markdown",
   "metadata": {},
   "source": [
    "## Single Image Training"
   ]
  },
  {
   "cell_type": "code",
   "execution_count": 16,
   "metadata": {},
   "outputs": [
    {
     "name": "stdout",
     "output_type": "stream",
     "text": [
      "before optimize Variable containing:\n",
      " 0.2329\n",
      "[torch.FloatTensor of size 1]\n",
      " Variable containing:\n",
      "(0 ,.,.) = \n",
      "\n",
      "Columns 0 to 8 \n",
      "   0.4746  0.5413  0.5543  0.3576  0.3746  0.4528  0.5420  0.5476  0.4391\n",
      "\n",
      "Columns 9 to 9 \n",
      "   0.4390\n",
      "[torch.FloatTensor of size 1x1x10]\n",
      "\n",
      "after optimize Variable containing:\n",
      " 0.2273\n",
      "[torch.FloatTensor of size 1]\n",
      " Variable containing:\n",
      "(0 ,.,.) = \n",
      "\n",
      "Columns 0 to 8 \n",
      "   0.4898  0.5452  0.5473  0.3497  0.3652  0.4399  0.5323  0.5536  0.4328\n",
      "\n",
      "Columns 9 to 9 \n",
      "   0.4353\n",
      "[torch.FloatTensor of size 1x1x10]\n",
      "\n"
     ]
    }
   ],
   "source": [
    "net = Mnist()\n",
    "numbers = np.arange(10)\n",
    "\n",
    "input_tensor = torch.from_numpy(np.array(mnist.data[0]).reshape(1,1,784))\n",
    "target_tensor = torch.from_numpy((numbers == mnist.target[0]).astype(int).reshape(1,1,10))\n",
    "\n",
    "input = torch.autograd.Variable(input_tensor).type(torch.FloatTensor)\n",
    "target = torch.autograd.Variable(target_tensor).type(torch.FloatTensor)\n",
    "\n",
    "optimizer = optim.SGD(net.parameters(), lr=0.01)\n",
    "optimizer.zero_grad()   \n",
    "output = net(input)\n",
    "criterion = nn.MSELoss()\n",
    "loss = criterion(output, target)\n",
    "print('before optimize', loss, output)\n",
    "loss.backward() # calculate gradient\n",
    "optimizer.step() # update weight\n",
    "\n",
    "output = net(input)\n",
    "criterion = nn.MSELoss()\n",
    "loss = criterion(output, target)\n",
    "print('after optimize', loss, output)\n"
   ]
  },
  {
   "cell_type": "markdown",
   "metadata": {},
   "source": [
    "As you can see the loss after is smaller than before. Also for the same input the probability for 0 is higher while others (note all) going down."
   ]
  },
  {
   "cell_type": "code",
   "execution_count": 17,
   "metadata": {},
   "outputs": [
    {
     "name": "stdout",
     "output_type": "stream",
     "text": [
      "before optimize Variable containing:\n",
      " 0.1837\n",
      "[torch.FloatTensor of size 1]\n",
      " Variable containing:\n",
      "(0 ,.,.) = \n",
      "\n",
      "Columns 0 to 8 \n",
      "   0.6419  0.5733  0.4325  0.4596  0.3676  0.3910  0.3593  0.4050  0.4220\n",
      "\n",
      "Columns 9 to 9 \n",
      "   0.1767\n",
      "\n",
      "(1 ,.,.) = \n",
      "\n",
      "Columns 0 to 8 \n",
      "   0.6107  0.5599  0.4433  0.4364  0.3244  0.3948  0.3248  0.4901  0.4920\n",
      "\n",
      "Columns 9 to 9 \n",
      "   0.3017\n",
      "[torch.FloatTensor of size 2x1x10]\n",
      "\n",
      "after optimize Variable containing:\n",
      " 0.1719\n",
      "[torch.FloatTensor of size 1]\n",
      " Variable containing:\n",
      "(0 ,.,.) = \n",
      "\n",
      "Columns 0 to 8 \n",
      "   0.6804  0.5494  0.4130  0.4545  0.3488  0.3500  0.3191  0.3625  0.4483\n",
      "\n",
      "Columns 9 to 9 \n",
      "   0.1726\n",
      "\n",
      "(1 ,.,.) = \n",
      "\n",
      "Columns 0 to 8 \n",
      "   0.5744  0.5491  0.4398  0.4619  0.3252  0.3828  0.3092  0.5034  0.5131\n",
      "\n",
      "Columns 9 to 9 \n",
      "   0.2701\n",
      "[torch.FloatTensor of size 2x1x10]\n",
      "\n"
     ]
    }
   ],
   "source": [
    "net = Mnist()\n",
    "numbers = np.arange(10)\n",
    "\n",
    "i1, i2 = np.array(mnist.data[0]), np.array(mnist.data[50000])\n",
    "t1, t2 = (numbers == mnist.target[0]).astype(int), (numbers == mnist.target[50000]).astype(int)\n",
    "input_tensor  = torch.from_numpy(np.concatenate((i1, i2)).reshape(2,1,784))\n",
    "target_tensor = torch.from_numpy(np.concatenate((t1, t2)).reshape(2,1,10))\n",
    "\n",
    "input = torch.autograd.Variable(input_tensor).type(torch.FloatTensor)\n",
    "target = torch.autograd.Variable(target_tensor).type(torch.FloatTensor)\n",
    "\n",
    "optimizer = optim.SGD(net.parameters(), lr=0.01)\n",
    "optimizer.zero_grad()   \n",
    "output = net(input)\n",
    "criterion = nn.MSELoss()\n",
    "loss = criterion(output, target)\n",
    "print('before optimize', loss, output)\n",
    "loss.backward() # calculate gradient\n",
    "optimizer.step() # update weight\n",
    "\n",
    "output = net(input)\n",
    "criterion = nn.MSELoss()\n",
    "loss = criterion(output, target)\n",
    "print('after optimize', loss, output)\n"
   ]
  },
  {
   "cell_type": "code",
   "execution_count": 18,
   "metadata": {},
   "outputs": [],
   "source": [
    "def get_batch(idxs, bs = 100):\n",
    "    numbers = np.arange(10)\n",
    "    for i in range(0, len(idxs)//bs):        \n",
    "        yield [ ( j, \\\n",
    "                   mnist.target[j], \\\n",
    "                   np.array(mnist.data[j]), \\\n",
    "                   (numbers == mnist.target[j]).astype(int)\\\n",
    "                 ) for j in idxs[i*bs:(i+1)*bs] ]"
   ]
  },
  {
   "cell_type": "code",
   "execution_count": 19,
   "metadata": {
    "scrolled": true
   },
   "outputs": [
    {
     "data": {
      "image/png": "[encoded data removed]",
      "text/plain": [
       "<matplotlib.figure.Figure at 0x16a1d9c2d68>"
      ]
     },
     "metadata": {},
     "output_type": "display_data"
    }
   ],
   "source": [
    "def show_batch(idxs, targets):\n",
    "    w=10\n",
    "    h=10\n",
    "    columns = 5\n",
    "    rows = len(idxs)//columns\n",
    "    fig=plt.figure(figsize=(16, rows*2))\n",
    "    for i in range(1, columns*rows +1):\n",
    "        idx = idxs[i-1]\n",
    "        img =  mnist.data[idx].reshape((28,28))\n",
    "        sp = fig.add_subplot(rows, columns , i)\n",
    "        sp.axis('Off')\n",
    "        sp.set_title(str(int(mnist.target[idx]))+'-'+str(idx)+'-'+str(int(targets[i-1])), fontsize=16)\n",
    "        fig.add_subplot(rows, columns, i) \n",
    "        plt.imshow(img, cmap='gray_r')\n",
    "        \n",
    "for b in get_batch(range(0,70000,10000), bs=5):\n",
    "    idxs, targets, nn_imgs, nn_targets = list(zip(*b))\n",
    "    #print('show images', zipb[2])\n",
    "    show_batch(idxs, targets)\n",
    "    #show_batch(range(0,70000,1000))        \n"
   ]
  },
  {
   "cell_type": "code",
   "execution_count": 36,
   "metadata": {
    "scrolled": true
   },
   "outputs": [
    {
     "name": "stdout",
     "output_type": "stream",
     "text": [
      "loss: 0.04013275355100632 accuracy%: 87.69\n",
      "loss: 0.014668409712612629 accuracy%: 90.44\n",
      "loss: 0.01880292408168316 accuracy%: 91.46\n",
      "loss: 0.018750160932540894 accuracy%: 91.89\n",
      "loss: 0.014478201977908611 accuracy%: 92.31\n",
      "loss: 0.011017639189958572 accuracy%: 92.83\n",
      "loss: 0.01531914621591568 accuracy%: 93.1\n",
      "loss: 0.011744636110961437 accuracy%: 93.15\n",
      "loss: 0.004065744113177061 accuracy%: 93.5\n",
      "loss: 0.010687612928450108 accuracy%: 93.12\n",
      "loss: 0.006565553601831198 accuracy%: 93.75\n",
      "loss: 0.015942933037877083 accuracy%: 93.79\n",
      "loss: 0.01028632465749979 accuracy%: 94.18\n",
      "loss: 0.006764165125787258 accuracy%: 93.84\n",
      "loss: 0.011488944292068481 accuracy%: 94.03\n",
      "loss: 0.01147004310041666 accuracy%: 94.11\n",
      "loss: 0.0065440828911960125 accuracy%: 94.05\n",
      "loss: 0.013798326253890991 accuracy%: 94.26\n",
      "loss: 0.006559187546372414 accuracy%: 94.02\n",
      "loss: 0.013132928870618343 accuracy%: 94.44\n",
      "loss: 0.005142384208738804 accuracy%: 94.37\n",
      "loss: 0.014246571809053421 accuracy%: 94.43\n",
      "loss: 0.0045836372300982475 accuracy%: 94.42\n",
      "loss: 0.008017268031835556 accuracy%: 94.53\n",
      "loss: 0.009095571003854275 accuracy%: 94.7\n",
      "loss: 0.0059480853378772736 accuracy%: 94.73\n",
      "loss: 0.00855262391269207 accuracy%: 94.85\n",
      "loss: 0.009974990040063858 accuracy%: 94.72\n",
      "loss: 0.009335283190011978 accuracy%: 94.85\n",
      "loss: 0.00810690876096487 accuracy%: 94.68\n",
      "loss: 0.004703795537352562 accuracy%: 94.77\n",
      "loss: 0.012290364131331444 accuracy%: 95.07\n",
      "loss: 0.009719030931591988 accuracy%: 95.18\n",
      "loss: 0.00871902983635664 accuracy%: 94.84\n",
      "loss: 0.008002967573702335 accuracy%: 94.81\n",
      "loss: 0.004180008079856634 accuracy%: 94.94\n",
      "loss: 0.00574462441727519 accuracy%: 95.15\n",
      "loss: 0.00923094991594553 accuracy%: 95.05\n",
      "loss: 0.008879542350769043 accuracy%: 95.17\n",
      "loss: 0.005635541398078203 accuracy%: 95.34\n"
     ]
    }
   ],
   "source": [
    "net = Mnist()\n",
    "bs = 50\n",
    "#idxs = range(0,70000,10000)\n",
    "\n",
    "x = np.random.permutation(60000)\n",
    "training_data_index = x[:60000]\n",
    "validation_data_index = x[50000:]\n",
    "test_data_index = range(60000, 70000)\n",
    "idxs = training_data_index\n",
    "\n",
    "for epoch in range(0,40):\n",
    "    \n",
    "    x = np.random.permutation(60000)\n",
    "    training_data_index = x[:60000]\n",
    "    validation_data_index = x[50000:]\n",
    "    test_data_index = range(60000, 70000)\n",
    "    idxs = training_data_index\n",
    "    shown = 0\n",
    "    \n",
    "    l = 0\n",
    "    test_total = 0\n",
    "    test_pred_right = 0\n",
    "    \n",
    "    for b in get_batch(idxs, bs):\n",
    "        idxs, targets, nn_imgs, nn_targets = list(zip(*b))\n",
    "\n",
    "        #i1, i2 = np.array(mnist.data[0]), np.array(mnist.data[50000])\n",
    "        #t1, t2 = (numbers == mnist.target[0]).astype(int), (numbers == mnist.target[50000]).astype(int)\n",
    "\n",
    "        input_tensor  = torch.from_numpy(np.concatenate(nn_imgs).reshape(bs,1,784))\n",
    "        target_tensor = torch.from_numpy(np.concatenate(nn_targets).reshape(bs,1,10))\n",
    "\n",
    "        input = torch.autograd.Variable(input_tensor).type(torch.FloatTensor)\n",
    "        target = torch.autograd.Variable(target_tensor).type(torch.FloatTensor)\n",
    "\n",
    "        optimizer = optim.SGD(net.parameters(), lr=0.1)\n",
    "        optimizer.zero_grad()   \n",
    "        output = net(input)\n",
    "        criterion = nn.MSELoss()\n",
    "        loss = criterion(output, target)\n",
    "        l = loss\n",
    "        loss.backward() # calculate gradient\n",
    "        optimizer.step() # update weight\n",
    "    \n",
    "    for b in get_batch(test_data_index, bs):\n",
    "        idxs, targets, nn_imgs, nn_targets = list(zip(*b))\n",
    "        input_tensor  = torch.from_numpy(np.concatenate(nn_imgs).reshape(bs,1,784))\n",
    "        input = torch.autograd.Variable(input_tensor).type(torch.FloatTensor)\n",
    "        output = net(input)\n",
    "        results = np.max(np.argmax(output.data.numpy(),axis=2), axis=1)\n",
    "        targets = np.asarray(targets)\n",
    "        # print('predict results', results, targets, np.sum(results == targets))        \n",
    "        #if (len(targets) - np.sum(results == targets) > 20 and shown == 0): \n",
    "        #    shown = 1\n",
    "        #    show_batch(idxs, results)\n",
    "        #    print('data:', results, targets, np.sum(results == targets))\n",
    "        test_total, test_pred_right = test_total + len(targets),  test_pred_right  + np.sum(results == targets)\n",
    "    print('loss:', l.data[0], 'accuracy%:', test_pred_right * 100. / test_total )\n",
    "    \n",
    "    \n",
    "    "
   ]
  },
  {
   "cell_type": "code",
   "execution_count": null,
   "metadata": {},
   "outputs": [],
   "source": [
    "!git gui"
   ]
  },
  {
   "cell_type": "code",
   "execution_count": 29,
   "metadata": {},
   "outputs": [
    {
     "data": {
      "text/plain": [
       "array([1, 2, 3, 4, 5, 6])"
      ]
     },
     "execution_count": 29,
     "metadata": {},
     "output_type": "execute_result"
    }
   ],
   "source": [
    "np.concatenate([[1,2,3], [4,5,6]])"
   ]
  },
  {
   "cell_type": "code",
   "execution_count": 25,
   "metadata": {},
   "outputs": [
    {
     "data": {
      "text/plain": [
       "array([[[0.37190485, 0.96047412, 0.93183129, 0.02000278, 0.45956605,\n",
       "         0.3027824 , 0.95270313, 0.31699268, 0.43772123, 0.78012996]],\n",
       "\n",
       "       [[0.61587928, 0.43831593, 0.00587506, 0.62621153, 0.18199859,\n",
       "         0.36457011, 0.12629435, 0.4842171 , 0.85600875, 0.15508576]]])"
      ]
     },
     "execution_count": 25,
     "metadata": {},
     "output_type": "execute_result"
    }
   ],
   "source": [
    "a = np.random.rand(2,1,10)\n",
    "a"
   ]
  },
  {
   "cell_type": "code",
   "execution_count": 39,
   "metadata": {},
   "outputs": [
    {
     "data": {
      "text/plain": [
       "array([[1],\n",
       "       [8]], dtype=int64)"
      ]
     },
     "execution_count": 39,
     "metadata": {},
     "output_type": "execute_result"
    }
   ],
   "source": [
    "b = np.argmax(a,axis=2)\n",
    "b"
   ]
  },
  {
   "cell_type": "code",
   "execution_count": 44,
   "metadata": {},
   "outputs": [
    {
     "data": {
      "text/plain": [
       "array([1, 8], dtype=int64)"
      ]
     },
     "execution_count": 44,
     "metadata": {},
     "output_type": "execute_result"
    }
   ],
   "source": [
    "np.max(b, axis=1)"
   ]
  },
  {
   "cell_type": "code",
   "execution_count": 74,
   "metadata": {},
   "outputs": [
    {
     "data": {
      "text/plain": [
       "3"
      ]
     },
     "execution_count": 74,
     "metadata": {},
     "output_type": "execute_result"
    }
   ],
   "source": [
    "b = np.array([1, 2, 4, 3, 5])\n",
    "a = np.array([1, 2, 3, 4, 5.])\n",
    "(a == b).sum()"
   ]
  },
  {
   "cell_type": "code",
   "execution_count": 28,
   "metadata": {},
   "outputs": [
    {
     "name": "stdout",
     "output_type": "stream",
     "text": [
      "hi\n"
     ]
    }
   ],
   "source": [
    "a=3\n",
    "if (a == 3):\n",
    "    print('hi')"
   ]
  },
  {
   "cell_type": "code",
   "execution_count": null,
   "metadata": {},
   "outputs": [],
   "source": []
  }
 ],
 "metadata": {
  "kernelspec": {
   "display_name": "Python 3",
   "language": "python",
   "name": "python3"
  },
  "language_info": {
   "codemirror_mode": {
    "name": "ipython",
    "version": 3
   },
   "file_extension": ".py",
   "mimetype": "text/x-python",
   "name": "python",
   "nbconvert_exporter": "python",
   "pygments_lexer": "ipython3",
   "version": "3.6.4"
  }
 },
 "nbformat": 4,
 "nbformat_minor": 2
}
