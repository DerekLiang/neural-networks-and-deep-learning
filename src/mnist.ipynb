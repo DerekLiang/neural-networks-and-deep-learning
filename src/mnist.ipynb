{
 "cells": [
  {
   "cell_type": "code",
   "execution_count": 1,
   "metadata": {},
   "outputs": [],
   "source": [
    "# Put these at the top of every notebook, to get automatic reloading and inline plotting\n",
    "%reload_ext autoreload\n",
    "%autoreload 2\n",
    "%matplotlib inline\n",
    "\n",
    "import matplotlib.pyplot as plt\n",
    "import numpy as np\n",
    "from random import *\n",
    "\n",
    "import torch\n",
    "import torchvision\n",
    "import torchvision.transforms as transforms\n",
    "\n",
    "from torch.autograd import Variable\n",
    "import torch.nn as nn\n",
    "import torch.nn.functional as F\n",
    "import torch.optim as optim\n"
   ]
  },
  {
   "cell_type": "code",
   "execution_count": 2,
   "metadata": {},
   "outputs": [
    {
     "name": "stdout",
     "output_type": "stream",
     "text": [
      "Mnist(\n",
      "  (fc1): Linear(in_features=784, out_features=100)\n",
      "  (fc2): Linear(in_features=100, out_features=10)\n",
      ")\n"
     ]
    }
   ],
   "source": [
    "\n",
    "\n",
    "class Mnist(nn.Module):\n",
    "\n",
    "    def __init__(self):\n",
    "        super(Mnist, self).__init__()\n",
    "        # an affine operation: y = Wx + b\n",
    "        self.fc1 = nn.Linear(784, 100)\n",
    "        self.fc2 = nn.Linear(100, 10)\n",
    "\n",
    "    def forward(self, x):\n",
    "        x = self.fc1(x)\n",
    "        x = F.sigmoid(x)\n",
    "        x = self.fc2(x)\n",
    "        x = F.sigmoid(x)\n",
    "        return x\n",
    "    \n",
    "net = Mnist()\n",
    "print(net)\n"
   ]
  },
  {
   "cell_type": "markdown",
   "metadata": {},
   "source": [
    "## Test our network with random data and get it to learn something"
   ]
  },
  {
   "cell_type": "code",
   "execution_count": 3,
   "metadata": {},
   "outputs": [
    {
     "name": "stdout",
     "output_type": "stream",
     "text": [
      "before optimize Variable containing:\n",
      " 33.1449\n",
      "[torch.FloatTensor of size 1]\n",
      "\n"
     ]
    }
   ],
   "source": [
    "input = Variable(torch.randn(1, 1, 784))\n",
    "target = Variable(torch.arange(1, 11))  \n",
    "\n",
    "optimizer = optim.SGD(net.parameters(), lr=0.01)\n",
    "optimizer.zero_grad()   \n",
    "output = net(input)\n",
    "criterion = nn.MSELoss()\n",
    "loss = criterion(output, target)\n",
    "print('before optimize', loss)\n",
    "loss.backward() # calculate gradient\n",
    "optimizer.step() # update weight\n"
   ]
  },
  {
   "cell_type": "code",
   "execution_count": 4,
   "metadata": {},
   "outputs": [
    {
     "name": "stdout",
     "output_type": "stream",
     "text": [
      "after optimize Variable containing:\n",
      " 32.8418\n",
      "[torch.FloatTensor of size 1]\n",
      "\n"
     ]
    }
   ],
   "source": [
    "output = net(input)\n",
    "criterion = nn.MSELoss()\n",
    "loss = criterion(output, target)\n",
    "print('after optimize', loss) # it number is smaller than before, therefore the network is learning something\n"
   ]
  },
  {
   "cell_type": "code",
   "execution_count": 5,
   "metadata": {},
   "outputs": [
    {
     "name": "stdout",
     "output_type": "stream",
     "text": [
      "<MseLossBackward object at 0x0000019CEDDB09E8>\n",
      "<SigmoidBackward0 object at 0x0000019CEDDB0668>\n",
      "<AddBackward1 object at 0x0000019CEDDB09E8>\n"
     ]
    }
   ],
   "source": [
    "#we can trace the loss.grade_fn backwards through the network.\n",
    "print(loss.grad_fn)  # MSELoss\n",
    "print(loss.grad_fn.next_functions[0][0])  # Linear\n",
    "print(loss.grad_fn.next_functions[0][0].next_functions[0][0])  # ReLU"
   ]
  },
  {
   "cell_type": "code",
   "execution_count": 6,
   "metadata": {},
   "outputs": [],
   "source": [
    "from sklearn.datasets import fetch_mldata\n",
    "mnist = fetch_mldata('MNIST original', data_home=\"../data\")\n"
   ]
  },
  {
   "cell_type": "code",
   "execution_count": 7,
   "metadata": {},
   "outputs": [
    {
     "data": {
      "text/plain": [
       "{'COL_NAMES': ['label', 'data'],\n",
       " 'DESCR': 'mldata.org dataset: mnist-original',\n",
       " 'data': array([[0, 0, 0, ..., 0, 0, 0],\n",
       "        [0, 0, 0, ..., 0, 0, 0],\n",
       "        [0, 0, 0, ..., 0, 0, 0],\n",
       "        ...,\n",
       "        [0, 0, 0, ..., 0, 0, 0],\n",
       "        [0, 0, 0, ..., 0, 0, 0],\n",
       "        [0, 0, 0, ..., 0, 0, 0]], dtype=uint8),\n",
       " 'target': array([0., 0., 0., ..., 9., 9., 9.])}"
      ]
     },
     "execution_count": 7,
     "metadata": {},
     "output_type": "execute_result"
    }
   ],
   "source": [
    "mnist"
   ]
  },
  {
   "cell_type": "code",
   "execution_count": 8,
   "metadata": {},
   "outputs": [
    {
     "data": {
      "text/plain": [
       "70000"
      ]
     },
     "execution_count": 8,
     "metadata": {},
     "output_type": "execute_result"
    }
   ],
   "source": [
    "len(mnist.data)"
   ]
  },
  {
   "cell_type": "code",
   "execution_count": 9,
   "metadata": {},
   "outputs": [
    {
     "data": {
      "text/plain": [
       "70000"
      ]
     },
     "execution_count": 9,
     "metadata": {},
     "output_type": "execute_result"
    }
   ],
   "source": [
    "len(mnist.target)"
   ]
  },
  {
   "cell_type": "code",
   "execution_count": 10,
   "metadata": {},
   "outputs": [
    {
     "data": {
      "text/plain": [
       "784"
      ]
     },
     "execution_count": 10,
     "metadata": {},
     "output_type": "execute_result"
    }
   ],
   "source": [
    "len(mnist.data[0])"
   ]
  },
  {
   "cell_type": "code",
   "execution_count": 11,
   "metadata": {},
   "outputs": [
    {
     "data": {
      "text/plain": [
       "(array([ 6903.,  7877.,  6990.,  7141.,  6824.,  6313.,  6876.,  7293.,\n",
       "        13783.]),\n",
       " array([0, 1, 2, 3, 4, 5, 6, 7, 8, 9]),\n",
       " <a list of 9 Patch objects>)"
      ]
     },
     "execution_count": 11,
     "metadata": {},
     "output_type": "execute_result"
    },
    {
     "data": {
      "image/png": "[encoded data removed]",
      "text/plain": [
       "<matplotlib.figure.Figure at 0x19cf8f06278>"
      ]
     },
     "metadata": {},
     "output_type": "display_data"
    }
   ],
   "source": [
    "plt.hist(mnist.target, bins=range(10))"
   ]
  },
  {
   "cell_type": "code",
   "execution_count": 20,
   "metadata": {},
   "outputs": [
    {
     "data": {
      "image/png": "[encoded data removed]",
      "text/plain": [
       "<matplotlib.figure.Figure at 0x19cfd0477b8>"
      ]
     },
     "metadata": {},
     "output_type": "display_data"
    }
   ],
   "source": [
    "w=10\n",
    "h=10\n",
    "fig=plt.figure(figsize=(8, 8))\n",
    "columns = 4\n",
    "rows = 5\n",
    "for i in range(1, columns*rows +1):\n",
    "    idx = randint(0, 70000)\n",
    "    img =  mnist.data[idx].reshape((28,28))\n",
    "    sp = fig.add_subplot(rows, columns , i)\n",
    "    sp.axis('Off')\n",
    "    sp.set_title(int(mnist.target[idx]), fontsize=16)\n",
    "    fig.add_subplot(rows, columns, i)\n",
    "    plt.imshow(img, cmap='gray_r')\n",
    "\n"
   ]
  },
  {
   "cell_type": "code",
   "execution_count": 8,
   "metadata": {},
   "outputs": [],
   "source": [
    "x = np.random.permutation(70000)"
   ]
  },
  {
   "cell_type": "code",
   "execution_count": 9,
   "metadata": {},
   "outputs": [],
   "source": [
    "training_data_index = x[:50000]\n",
    "validation_data_index = x[50000:60000]\n",
    "test_data_index = x[60000:]"
   ]
  },
  {
   "cell_type": "code",
   "execution_count": 10,
   "metadata": {},
   "outputs": [
    {
     "data": {
      "text/plain": [
       "array([43900, 34921, 20914])"
      ]
     },
     "execution_count": 10,
     "metadata": {},
     "output_type": "execute_result"
    }
   ],
   "source": [
    "bs = 5\n",
    "bs_data_index = training_data_index[:3]\n",
    "bs_data_index"
   ]
  },
  {
   "cell_type": "code",
   "execution_count": 29,
   "metadata": {},
   "outputs": [
    {
     "ename": "NameError",
     "evalue": "name 'tourch' is not defined",
     "output_type": "error",
     "traceback": [
      "\u001b[1;31m---------------------------------------------------------------------------\u001b[0m",
      "\u001b[1;31mNameError\u001b[0m                                 Traceback (most recent call last)",
      "\u001b[1;32m<ipython-input-29-f89b67b0fd31>\u001b[0m in \u001b[0;36m<module>\u001b[1;34m()\u001b[0m\n\u001b[1;32m----> 1\u001b[1;33m \u001b[0mnet\u001b[0m\u001b[1;33m(\u001b[0m \u001b[0mtourch\u001b[0m\u001b[1;33m.\u001b[0m\u001b[0marray\u001b[0m\u001b[1;33m(\u001b[0m\u001b[0mmnist\u001b[0m\u001b[1;33m.\u001b[0m\u001b[0mdata\u001b[0m\u001b[1;33m[\u001b[0m\u001b[1;36m0\u001b[0m\u001b[1;33m]\u001b[0m\u001b[1;33m)\u001b[0m\u001b[1;33m.\u001b[0m\u001b[0mreshape\u001b[0m\u001b[1;33m(\u001b[0m\u001b[1;33m(\u001b[0m\u001b[1;36m1\u001b[0m\u001b[1;33m,\u001b[0m\u001b[1;36m1\u001b[0m\u001b[1;33m,\u001b[0m\u001b[1;36m28\u001b[0m\u001b[1;33m,\u001b[0m\u001b[1;36m28\u001b[0m\u001b[1;33m)\u001b[0m\u001b[1;33m)\u001b[0m\u001b[1;33m)\u001b[0m\u001b[1;33m\u001b[0m\u001b[0m\n\u001b[0m",
      "\u001b[1;31mNameError\u001b[0m: name 'tourch' is not defined"
     ]
    }
   ],
   "source": [
    "net( tourch.array(mnist.data[0]).reshape((1,1,28,28)))"
   ]
  },
  {
   "cell_type": "code",
   "execution_count": 26,
   "metadata": {},
   "outputs": [
    {
     "data": {
      "text/plain": [
       "784"
      ]
     },
     "execution_count": 26,
     "metadata": {},
     "output_type": "execute_result"
    }
   ],
   "source": [
    "len(mnist.data[0])"
   ]
  },
  {
   "cell_type": "code",
   "execution_count": 27,
   "metadata": {},
   "outputs": [
    {
     "data": {
      "text/plain": [
       "784"
      ]
     },
     "execution_count": 27,
     "metadata": {},
     "output_type": "execute_result"
    }
   ],
   "source": [
    "28*28"
   ]
  },
  {
   "cell_type": "markdown",
   "metadata": {},
   "source": [
    "## single image training"
   ]
  },
  {
   "cell_type": "code",
   "execution_count": 43,
   "metadata": {},
   "outputs": [
    {
     "name": "stdout",
     "output_type": "stream",
     "text": [
      "before optimize Variable containing:\n",
      " 0.2409\n",
      "[torch.FloatTensor of size 1]\n",
      " Variable containing:\n",
      "(0 ,.,.) = \n",
      "\n",
      "Columns 0 to 8 \n",
      "   0.5648  0.5061  0.4849  0.5984  0.3762  0.4369  0.5780  0.4977  0.4757\n",
      "\n",
      "Columns 9 to 9 \n",
      "   0.4793\n",
      "[torch.FloatTensor of size 1x1x10]\n",
      "\n",
      "after optimize Variable containing:\n",
      " 0.2210\n",
      "[torch.FloatTensor of size 1]\n",
      " Variable containing:\n",
      "(0 ,.,.) = \n",
      "\n",
      "Columns 0 to 8 \n",
      "   0.5637  0.4708  0.4913  0.5388  0.3582  0.4601  0.5194  0.4621  0.4586\n",
      "\n",
      "Columns 9 to 9 \n",
      "   0.4820\n",
      "[torch.FloatTensor of size 1x1x10]\n",
      "\n"
     ]
    }
   ],
   "source": [
    "net = Mnist()\n",
    "numbers = np.arange(10)\n",
    "\n",
    "input_tensor = torch.from_numpy(np.array(mnist.data[0]).reshape(1,1,784))\n",
    "target_tensor = torch.from_numpy((numbers == mnist.target[0]).astype(int).reshape(1,1,10))\n",
    "\n",
    "input = torch.autograd.Variable(input_tensor).type(torch.FloatTensor)\n",
    "target = torch.autograd.Variable(target_tensor).type(torch.FloatTensor)\n",
    "\n",
    "optimizer = optim.SGD(net.parameters(), lr=0.01)\n",
    "optimizer.zero_grad()   \n",
    "output = net(input)\n",
    "criterion = nn.MSELoss()\n",
    "loss = criterion(output, target)\n",
    "print('before optimize', loss, output)\n",
    "loss.backward() # calculate gradient\n",
    "optimizer.step() # update weight\n",
    "\n",
    "output = net(input)\n",
    "criterion = nn.MSELoss()\n",
    "loss = criterion(output, target)\n",
    "print('after optimize', loss, output)\n"
   ]
  },
  {
   "cell_type": "code",
   "execution_count": 57,
   "metadata": {},
   "outputs": [
    {
     "name": "stdout",
     "output_type": "stream",
     "text": [
      "before optimize Variable containing:\n",
      " 0.2395\n",
      "[torch.FloatTensor of size 1]\n",
      " Variable containing:\n",
      "(0 ,.,.) = \n",
      "\n",
      "Columns 0 to 8 \n",
      "   0.5245  0.4319  0.3781  0.3933  0.3861  0.6101  0.4688  0.4520  0.5474\n",
      "\n",
      "Columns 9 to 9 \n",
      "   0.4132\n",
      "\n",
      "(1 ,.,.) = \n",
      "\n",
      "Columns 0 to 8 \n",
      "   0.4420  0.5664  0.3824  0.5097  0.5157  0.6091  0.6482  0.3604  0.4361\n",
      "\n",
      "Columns 9 to 9 \n",
      "   0.4876\n",
      "[torch.FloatTensor of size 2x1x10]\n",
      "\n",
      "after optimize Variable containing:\n",
      " 0.2273\n",
      "[torch.FloatTensor of size 1]\n",
      " Variable containing:\n",
      "(0 ,.,.) = \n",
      "\n",
      "Columns 0 to 8 \n",
      "   0.5131  0.3935  0.3450  0.3782  0.3683  0.5805  0.4600  0.4349  0.5226\n",
      "\n",
      "Columns 9 to 9 \n",
      "   0.4220\n",
      "\n",
      "(1 ,.,.) = \n",
      "\n",
      "Columns 0 to 8 \n",
      "   0.4167  0.5272  0.3855  0.5115  0.5534  0.5811  0.6147  0.3644  0.4252\n",
      "\n",
      "Columns 9 to 9 \n",
      "   0.4695\n",
      "[torch.FloatTensor of size 2x1x10]\n",
      "\n"
     ]
    }
   ],
   "source": [
    "net = Mnist()\n",
    "numbers = np.arange(10)\n",
    "\n",
    "i1, i2 = np.array(mnist.data[0]), np.array(mnist.data[50000])\n",
    "t1, t2 = (numbers == mnist.target[0]).astype(int), (numbers == mnist.target[50000]).astype(int)\n",
    "input_tensor  = torch.from_numpy(np.concatenate((i1, i2)).reshape(2,1,784))\n",
    "target_tensor = torch.from_numpy(np.concatenate((t1, t2)).reshape(2,1,10))\n",
    "\n",
    "input = torch.autograd.Variable(input_tensor).type(torch.FloatTensor)\n",
    "target = torch.autograd.Variable(target_tensor).type(torch.FloatTensor)\n",
    "\n",
    "optimizer = optim.SGD(net.parameters(), lr=0.01)\n",
    "optimizer.zero_grad()   \n",
    "output = net(input)\n",
    "criterion = nn.MSELoss()\n",
    "loss = criterion(output, target)\n",
    "print('before optimize', loss, output)\n",
    "loss.backward() # calculate gradient\n",
    "optimizer.step() # update weight\n",
    "\n",
    "output = net(input)\n",
    "criterion = nn.MSELoss()\n",
    "loss = criterion(output, target)\n",
    "print('after optimize', loss, output)\n"
   ]
  },
  {
   "cell_type": "code",
   "execution_count": 53,
   "metadata": {},
   "outputs": [
    {
     "data": {
      "text/plain": [
       "array([[0, 1, 2],\n",
       "       [0, 1, 2]])"
      ]
     },
     "execution_count": 53,
     "metadata": {},
     "output_type": "execute_result"
    }
   ],
   "source": [
    "np.concatenate((np.arange(3),np.arange(3))).reshape(2,3)"
   ]
  },
  {
   "cell_type": "code",
   "execution_count": 44,
   "metadata": {},
   "outputs": [],
   "source": [
    "!git gui"
   ]
  }
 ],
 "metadata": {
  "kernelspec": {
   "display_name": "Python 3",
   "language": "python",
   "name": "python3"
  },
  "language_info": {
   "codemirror_mode": {
    "name": "ipython",
    "version": 3
   },
   "file_extension": ".py",
   "mimetype": "text/x-python",
   "name": "python",
   "nbconvert_exporter": "python",
   "pygments_lexer": "ipython3",
   "version": "3.6.4"
  }
 },
 "nbformat": 4,
 "nbformat_minor": 2
}
