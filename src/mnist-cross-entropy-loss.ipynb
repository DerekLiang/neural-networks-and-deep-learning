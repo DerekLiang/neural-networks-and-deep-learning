{
 "cells": [
  {
   "cell_type": "markdown",
   "metadata": {},
   "source": [
    "# Learning NN with MNIST Dataset"
   ]
  },
  {
   "cell_type": "code",
   "execution_count": 1,
   "metadata": {},
   "outputs": [],
   "source": [
    "# Put these at the top of every notebook, to get automatic reloading and inline plotting\n",
    "%reload_ext autoreload\n",
    "%autoreload 2\n",
    "%matplotlib inline\n",
    "\n",
    "import matplotlib.pyplot as plt\n",
    "import numpy as np\n",
    "from random import *\n",
    "\n",
    "import torch\n",
    "import torchvision\n",
    "import torchvision.transforms as transforms\n",
    "\n",
    "from torch.autograd import Variable\n",
    "import torch.nn as nn\n",
    "import torch.nn.functional as F\n",
    "import torch.optim as optim\n"
   ]
  },
  {
   "cell_type": "code",
   "execution_count": 2,
   "metadata": {},
   "outputs": [
    {
     "name": "stdout",
     "output_type": "stream",
     "text": [
      "Mnist(\n",
      "  (fc1): Linear(in_features=784, out_features=100, bias=True)\n",
      "  (fc2): Linear(in_features=100, out_features=10, bias=True)\n",
      ")\n"
     ]
    }
   ],
   "source": [
    "#define out network\n",
    "class Mnist(nn.Module):\n",
    "\n",
    "    def __init__(self):\n",
    "        super(Mnist, self).__init__()\n",
    "        # an affine operation: y = Wx + b\n",
    "        self.fc1 = nn.Linear(784, 100)\n",
    "        self.fc2 = nn.Linear(100, 10)\n",
    "\n",
    "    def forward(self, x):\n",
    "        x = self.fc1(x)\n",
    "        x = F.sigmoid(x)\n",
    "        x = self.fc2(x)        \n",
    "        #x = F.softmax(x)\n",
    "        x = F.sigmoid(x)\n",
    "        x = x.view(-1,10)\n",
    "        return x\n",
    "    \n",
    "net = Mnist()\n",
    "print(net)\n"
   ]
  },
  {
   "cell_type": "markdown",
   "metadata": {},
   "source": [
    "## Test our network with random data and get it to learn something"
   ]
  },
  {
   "cell_type": "code",
   "execution_count": 3,
   "metadata": {},
   "outputs": [
    {
     "name": "stdout",
     "output_type": "stream",
     "text": [
      "before optimize Variable containing:\n",
      " 33.4846\n",
      "[torch.FloatTensor of size 1]\n",
      "\n"
     ]
    }
   ],
   "source": [
    "input = Variable(torch.randn(1, 1, 784))\n",
    "target = Variable(torch.arange(1, 11))  \n",
    "\n",
    "optimizer = optim.SGD(net.parameters(), lr=0.01)\n",
    "optimizer.zero_grad()   \n",
    "output = net(input)\n",
    "criterion = nn.MSELoss()\n",
    "loss = criterion(output, target)\n",
    "print('before optimize', loss)\n",
    "loss.backward() # calculate gradient\n",
    "optimizer.step() # update weight\n"
   ]
  },
  {
   "cell_type": "code",
   "execution_count": 4,
   "metadata": {},
   "outputs": [
    {
     "name": "stdout",
     "output_type": "stream",
     "text": [
      "after optimize Variable containing:\n",
      " 33.1180\n",
      "[torch.FloatTensor of size 1]\n",
      "\n"
     ]
    }
   ],
   "source": [
    "output = net(input)\n",
    "criterion = nn.MSELoss()\n",
    "loss = criterion(output, target)\n",
    "print('after optimize', loss) # it number is smaller than before, therefore the network is learning something\n"
   ]
  },
  {
   "cell_type": "code",
   "execution_count": 5,
   "metadata": {},
   "outputs": [
    {
     "name": "stdout",
     "output_type": "stream",
     "text": [
      "<MseLossBackward object at 0x000001CAA8967CC0>\n",
      "<ViewBackward object at 0x000001CAA89679E8>\n",
      "<SigmoidBackward0 object at 0x000001CAA8967CC0>\n"
     ]
    }
   ],
   "source": [
    "#we can trace the loss.grade_fn backwards through the network.\n",
    "print(loss.grad_fn)  # MSELoss\n",
    "print(loss.grad_fn.next_functions[0][0])  # Linear\n",
    "print(loss.grad_fn.next_functions[0][0].next_functions[0][0])  # ReLU"
   ]
  },
  {
   "cell_type": "code",
   "execution_count": 6,
   "metadata": {},
   "outputs": [],
   "source": [
    "from sklearn.datasets import fetch_mldata\n",
    "mnist = fetch_mldata('MNIST original', data_home=\"../data\")\n"
   ]
  },
  {
   "cell_type": "code",
   "execution_count": 7,
   "metadata": {},
   "outputs": [
    {
     "data": {
      "text/plain": [
       "{'COL_NAMES': ['label', 'data'],\n",
       " 'DESCR': 'mldata.org dataset: mnist-original',\n",
       " 'data': array([[0, 0, 0, ..., 0, 0, 0],\n",
       "        [0, 0, 0, ..., 0, 0, 0],\n",
       "        [0, 0, 0, ..., 0, 0, 0],\n",
       "        ...,\n",
       "        [0, 0, 0, ..., 0, 0, 0],\n",
       "        [0, 0, 0, ..., 0, 0, 0],\n",
       "        [0, 0, 0, ..., 0, 0, 0]], dtype=uint8),\n",
       " 'target': array([0., 0., 0., ..., 9., 9., 9.])}"
      ]
     },
     "execution_count": 7,
     "metadata": {},
     "output_type": "execute_result"
    }
   ],
   "source": [
    "mnist"
   ]
  },
  {
   "cell_type": "code",
   "execution_count": 8,
   "metadata": {},
   "outputs": [
    {
     "data": {
      "text/plain": [
       "70000"
      ]
     },
     "execution_count": 8,
     "metadata": {},
     "output_type": "execute_result"
    }
   ],
   "source": [
    "len(mnist.data)"
   ]
  },
  {
   "cell_type": "code",
   "execution_count": 9,
   "metadata": {},
   "outputs": [
    {
     "data": {
      "text/plain": [
       "70000"
      ]
     },
     "execution_count": 9,
     "metadata": {},
     "output_type": "execute_result"
    }
   ],
   "source": [
    "len(mnist.target)"
   ]
  },
  {
   "cell_type": "code",
   "execution_count": 10,
   "metadata": {},
   "outputs": [
    {
     "data": {
      "text/plain": [
       "784"
      ]
     },
     "execution_count": 10,
     "metadata": {},
     "output_type": "execute_result"
    }
   ],
   "source": [
    "len(mnist.data[0])"
   ]
  },
  {
   "cell_type": "code",
   "execution_count": 11,
   "metadata": {},
   "outputs": [
    {
     "data": {
      "text/plain": [
       "(array([ 6903.,  7877.,  6990.,  7141.,  6824.,  6313.,  6876.,  7293.,\n",
       "        13783.]),\n",
       " array([0, 1, 2, 3, 4, 5, 6, 7, 8, 9]),\n",
       " <a list of 9 Patch objects>)"
      ]
     },
     "execution_count": 11,
     "metadata": {},
     "output_type": "execute_result"
    },
    {
     "data": {
      "image/png": "[encoded data removed]",
      "text/plain": [
       "<matplotlib.figure.Figure at 0x1caac1e4ac8>"
      ]
     },
     "metadata": {},
     "output_type": "display_data"
    }
   ],
   "source": [
    "plt.hist(mnist.target, bins=range(10))"
   ]
  },
  {
   "cell_type": "code",
   "execution_count": 12,
   "metadata": {},
   "outputs": [
    {
     "name": "stderr",
     "output_type": "stream",
     "text": [
      "C:\\Users\\derekli\\AppData\\Local\\conda\\conda\\envs\\fastai\\lib\\site-packages\\matplotlib\\cbook\\deprecation.py:106: MatplotlibDeprecationWarning: Adding an axes using the same arguments as a previous axes currently reuses the earlier instance.  In a future version, a new instance will always be created and returned.  Meanwhile, this warning can be suppressed, and the future behavior ensured, by passing a unique label to each axes instance.\n",
      "  warnings.warn(message, mplDeprecation, stacklevel=1)\n"
     ]
    },
    {
     "data": {
      "image/png": "[encoded data removed]",
      "text/plain": [
       "<matplotlib.figure.Figure at 0x1cab098f6a0>"
      ]
     },
     "metadata": {},
     "output_type": "display_data"
    }
   ],
   "source": [
    "w=10\n",
    "h=10\n",
    "fig=plt.figure(figsize=(8, 8))\n",
    "columns = 4\n",
    "rows = 5\n",
    "for i in range(1, columns*rows +1):\n",
    "    idx = randint(0, 70000)\n",
    "    img =  mnist.data[idx].reshape((28,28))\n",
    "    sp = fig.add_subplot(rows, columns , i)\n",
    "    sp.axis('Off')\n",
    "    sp.set_title(int(mnist.target[idx]), fontsize=16)\n",
    "    fig.add_subplot(rows, columns, i)\n",
    "    plt.imshow(img, cmap='gray_r')\n",
    "\n"
   ]
  },
  {
   "cell_type": "code",
   "execution_count": 13,
   "metadata": {},
   "outputs": [
    {
     "data": {
      "text/plain": [
       "784"
      ]
     },
     "execution_count": 13,
     "metadata": {},
     "output_type": "execute_result"
    }
   ],
   "source": [
    "len(mnist.data[0])"
   ]
  },
  {
   "cell_type": "code",
   "execution_count": 14,
   "metadata": {},
   "outputs": [
    {
     "data": {
      "text/plain": [
       "784"
      ]
     },
     "execution_count": 14,
     "metadata": {},
     "output_type": "execute_result"
    }
   ],
   "source": [
    "28*28"
   ]
  },
  {
   "cell_type": "markdown",
   "metadata": {},
   "source": [
    "## Single Image Training"
   ]
  },
  {
   "cell_type": "code",
   "execution_count": 15,
   "metadata": {},
   "outputs": [
    {
     "name": "stdout",
     "output_type": "stream",
     "text": [
      "before optimize Variable containing:\n",
      " 0.2358\n",
      "[torch.FloatTensor of size 1]\n",
      " Variable containing:\n",
      " 0.6125  0.5751  0.6392  0.3747  0.5050  0.5477  0.3456  0.5677  0.4078  0.4064\n",
      "[torch.FloatTensor of size 1x10]\n",
      "\n",
      "after optimize Variable containing:\n",
      " 0.2236\n",
      "[torch.FloatTensor of size 1]\n",
      " Variable containing:\n",
      " 0.5830  0.5608  0.6180  0.3605  0.4943  0.5324  0.3349  0.5460  0.3707  0.4007\n",
      "[torch.FloatTensor of size 1x10]\n",
      "\n"
     ]
    }
   ],
   "source": [
    "net = Mnist()\n",
    "numbers = np.arange(10)\n",
    "\n",
    "input_tensor = torch.from_numpy(np.array(mnist.data[0]).reshape(1,1,784))\n",
    "target_tensor = torch.from_numpy((numbers == mnist.target[0]).astype(int).reshape(1,1,10))\n",
    "\n",
    "input = torch.autograd.Variable(input_tensor).type(torch.FloatTensor)\n",
    "target = torch.autograd.Variable(target_tensor).type(torch.FloatTensor)\n",
    "\n",
    "optimizer = optim.SGD(net.parameters(), lr=0.01)\n",
    "optimizer.zero_grad()   \n",
    "output = net(input)\n",
    "criterion = nn.MSELoss()\n",
    "loss = criterion(output, target)\n",
    "print('before optimize', loss, output)\n",
    "loss.backward() # calculate gradient\n",
    "optimizer.step() # update weight\n",
    "\n",
    "output = net(input)\n",
    "criterion = nn.MSELoss()\n",
    "loss = criterion(output, target)\n",
    "print('after optimize', loss, output)\n"
   ]
  },
  {
   "cell_type": "markdown",
   "metadata": {},
   "source": [
    "As you can see the loss after is smaller than before. Also for the same input the probability for 0 is higher while others (note all) going down."
   ]
  },
  {
   "cell_type": "code",
   "execution_count": 16,
   "metadata": {},
   "outputs": [
    {
     "name": "stdout",
     "output_type": "stream",
     "text": [
      "before optimize Variable containing:\n",
      " 0.3129\n",
      "[torch.FloatTensor of size 1]\n",
      " Variable containing:\n",
      " 0.3448  0.6375  0.6860  0.6012  0.6259  0.5152  0.4511  0.5373  0.4431  0.5938\n",
      " 0.3798  0.5633  0.5176  0.4983  0.5547  0.5551  0.4218  0.5961  0.4750  0.7005\n",
      "[torch.FloatTensor of size 2x10]\n",
      "\n",
      "after optimize Variable containing:\n",
      " 0.3048\n",
      "[torch.FloatTensor of size 1]\n",
      " Variable containing:\n",
      " 0.3566  0.6352  0.6865  0.5906  0.6052  0.4802  0.4529  0.5603  0.4552  0.5732\n",
      " 0.3944  0.5485  0.5184  0.4852  0.5293  0.5626  0.4049  0.6029  0.4814  0.6739\n",
      "[torch.FloatTensor of size 2x10]\n",
      "\n"
     ]
    }
   ],
   "source": [
    "net = Mnist()\n",
    "numbers = np.arange(10)\n",
    "\n",
    "i1, i2 = np.array(mnist.data[0]), np.array(mnist.data[50000])\n",
    "t1, t2 = (numbers == mnist.target[0]).astype(int), (numbers == mnist.target[50000]).astype(int)\n",
    "input_tensor  = torch.from_numpy(np.concatenate((i1, i2)).reshape(2,1,784))\n",
    "target_tensor = torch.from_numpy(np.concatenate((t1, t2)).reshape(2,1,10))\n",
    "\n",
    "input = torch.autograd.Variable(input_tensor).type(torch.FloatTensor)\n",
    "target = torch.autograd.Variable(target_tensor).type(torch.FloatTensor)\n",
    "\n",
    "optimizer = optim.SGD(net.parameters(), lr=0.01)\n",
    "optimizer.zero_grad()   \n",
    "output = net(input)\n",
    "criterion = nn.MSELoss()\n",
    "loss = criterion(output, target)\n",
    "print('before optimize', loss, output)\n",
    "loss.backward() # calculate gradient\n",
    "optimizer.step() # update weight\n",
    "\n",
    "output = net(input)\n",
    "criterion = nn.MSELoss()\n",
    "loss = criterion(output, target)\n",
    "print('after optimize', loss, output)\n"
   ]
  },
  {
   "cell_type": "code",
   "execution_count": 17,
   "metadata": {},
   "outputs": [],
   "source": [
    "def get_batch(idxs, bs = 100):\n",
    "    numbers = np.arange(10)\n",
    "    for i in range(0, len(idxs)//bs):        \n",
    "        yield [ ( j, \\\n",
    "                   mnist.target[j], \\\n",
    "                   np.array(mnist.data[j]), \\\n",
    "                   (numbers == mnist.target[j]).astype(int)\\\n",
    "                 ) for j in idxs[i*bs:(i+1)*bs] ]"
   ]
  },
  {
   "cell_type": "code",
   "execution_count": 18,
   "metadata": {
    "scrolled": true
   },
   "outputs": [
    {
     "name": "stderr",
     "output_type": "stream",
     "text": [
      "C:\\Users\\derekli\\AppData\\Local\\conda\\conda\\envs\\fastai\\lib\\site-packages\\matplotlib\\cbook\\deprecation.py:106: MatplotlibDeprecationWarning: Adding an axes using the same arguments as a previous axes currently reuses the earlier instance.  In a future version, a new instance will always be created and returned.  Meanwhile, this warning can be suppressed, and the future behavior ensured, by passing a unique label to each axes instance.\n",
      "  warnings.warn(message, mplDeprecation, stacklevel=1)\n"
     ]
    },
    {
     "data": {
      "image/png": "[encoded data removed]",
      "text/plain": [
       "<matplotlib.figure.Figure at 0x1cab0fde780>"
      ]
     },
     "metadata": {},
     "output_type": "display_data"
    }
   ],
   "source": [
    "def show_batch(idxs, targets):\n",
    "    w=10\n",
    "    h=10\n",
    "    columns = 5\n",
    "    rows = len(idxs)//columns\n",
    "    fig=plt.figure(figsize=(16, rows*2))\n",
    "    for i in range(1, columns*rows +1):\n",
    "        idx = idxs[i-1]\n",
    "        img =  mnist.data[idx].reshape((28,28))\n",
    "        sp = fig.add_subplot(rows, columns , i)\n",
    "        sp.axis('Off')\n",
    "        sp.set_title(str(int(mnist.target[idx]))+'-'+str(idx)+'-'+str(int(targets[i-1])), fontsize=16)\n",
    "        fig.add_subplot(rows, columns, i) \n",
    "        plt.imshow(img, cmap='gray_r')\n",
    "        \n",
    "for b in get_batch(range(0,70000,10000), bs=5):\n",
    "    idxs, targets, nn_imgs, nn_targets = list(zip(*b))\n",
    "    #print('show images', zipb[2])\n",
    "    show_batch(idxs, targets)\n",
    "    #show_batch(range(0,70000,1000))        \n"
   ]
  },
  {
   "cell_type": "code",
   "execution_count": null,
   "metadata": {
    "scrolled": true
   },
   "outputs": [
    {
     "name": "stdout",
     "output_type": "stream",
     "text": [
      "loss: 1.4808382987976074 accuracy%: 93.94\n",
      "loss: 1.5700464248657227 accuracy%: 94.1\n",
      "loss: 1.540848731994629 accuracy%: 94.24\n",
      "loss: 1.5163384675979614 accuracy%: 94.16\n",
      "loss: 1.5637692213058472 accuracy%: 93.87\n",
      "loss: 1.558182716369629 accuracy%: 94.02\n",
      "loss: 1.535953164100647 accuracy%: 94.13\n",
      "loss: 1.563055157661438 accuracy%: 94.17\n",
      "loss: 1.508979082107544 accuracy%: 94.11\n",
      "loss: 1.5831698179244995 accuracy%: 94.06\n",
      "loss: 1.5294874906539917 accuracy%: 94.27\n",
      "loss: 1.4955493211746216 accuracy%: 94.24\n",
      "loss: 1.5243630409240723 accuracy%: 94.05\n",
      "loss: 1.5207226276397705 accuracy%: 94.29\n",
      "loss: 1.4878754615783691 accuracy%: 94.46\n",
      "loss: 1.5506324768066406 accuracy%: 94.44\n",
      "loss: 1.5163882970809937 accuracy%: 94.44\n",
      "loss: 1.4999079704284668 accuracy%: 94.37\n",
      "loss: 1.5231542587280273 accuracy%: 94.46\n",
      "loss: 1.4964814186096191 accuracy%: 94.76\n",
      "loss: 1.4814577102661133 accuracy%: 94.49\n",
      "loss: 1.5248712301254272 accuracy%: 94.27\n",
      "loss: 1.4857407808303833 accuracy%: 94.56\n",
      "loss: 1.5755980014801025 accuracy%: 94.46\n",
      "loss: 1.5023120641708374 accuracy%: 94.53\n",
      "loss: 1.5140730142593384 accuracy%: 94.65\n",
      "loss: 1.5443495512008667 accuracy%: 94.04\n",
      "loss: 1.4943383932113647 accuracy%: 94.37\n",
      "loss: 1.5375453233718872 accuracy%: 94.72\n",
      "loss: 1.546598196029663 accuracy%: 94.51\n",
      "loss: 1.5197161436080933 accuracy%: 94.68\n",
      "loss: 1.5194222927093506 accuracy%: 94.32\n",
      "loss: 1.5248771905899048 accuracy%: 94.41\n",
      "loss: 1.4864952564239502 accuracy%: 94.6\n",
      "loss: 1.4835386276245117 accuracy%: 94.48\n",
      "loss: 1.5650994777679443 accuracy%: 94.51\n",
      "loss: 1.5408765077590942 accuracy%: 94.63\n",
      "loss: 1.5075660943984985 accuracy%: 94.86\n",
      "loss: 1.508110761642456 accuracy%: 94.76\n",
      "loss: 1.5101428031921387 accuracy%: 94.69\n",
      "loss: 1.5011110305786133 accuracy%: 94.61\n",
      "loss: 1.5108704566955566 accuracy%: 94.73\n",
      "loss: 1.510988473892212 accuracy%: 94.9\n",
      "loss: 1.4956490993499756 accuracy%: 94.7\n",
      "loss: 1.5215777158737183 accuracy%: 94.58\n",
      "loss: 1.5014822483062744 accuracy%: 94.66\n",
      "loss: 1.5178669691085815 accuracy%: 94.79\n",
      "loss: 1.483076810836792 accuracy%: 94.78\n",
      "loss: 1.4859172105789185 accuracy%: 95.03\n",
      "loss: 1.5188493728637695 accuracy%: 94.96\n",
      "loss: 1.5080418586730957 accuracy%: 94.85\n",
      "loss: 1.4961743354797363 accuracy%: 94.8\n",
      "loss: 1.551631212234497 accuracy%: 95.08\n",
      "loss: 1.4828420877456665 accuracy%: 94.95\n",
      "loss: 1.5097697973251343 accuracy%: 95.03\n",
      "loss: 1.5252203941345215 accuracy%: 94.95\n",
      "loss: 1.4988548755645752 accuracy%: 95.1\n",
      "loss: 1.4943625926971436 accuracy%: 95.12\n",
      "loss: 1.4974298477172852 accuracy%: 94.73\n",
      "loss: 1.5406864881515503 accuracy%: 94.73\n",
      "loss: 1.4847116470336914 accuracy%: 95.09\n",
      "loss: 1.4798827171325684 accuracy%: 94.92\n",
      "loss: 1.5229763984680176 accuracy%: 94.95\n",
      "loss: 1.5133252143859863 accuracy%: 95.04\n",
      "loss: 1.491578221321106 accuracy%: 95.18\n",
      "loss: 1.5096851587295532 accuracy%: 95.07\n",
      "loss: 1.5150566101074219 accuracy%: 94.96\n",
      "loss: 1.4783940315246582 accuracy%: 94.98\n",
      "loss: 1.5072178840637207 accuracy%: 94.88\n",
      "loss: 1.5141892433166504 accuracy%: 95.12\n",
      "loss: 1.4852633476257324 accuracy%: 95.15\n",
      "loss: 1.5407698154449463 accuracy%: 94.94\n",
      "loss: 1.473404049873352 accuracy%: 94.9\n",
      "loss: 1.498255729675293 accuracy%: 95.09\n",
      "loss: 1.5058677196502686 accuracy%: 95.14\n",
      "loss: 1.5071415901184082 accuracy%: 94.95\n",
      "loss: 1.4820301532745361 accuracy%: 95.31\n",
      "loss: 1.5418874025344849 accuracy%: 95.35\n",
      "loss: 1.516270637512207 accuracy%: 95.25\n",
      "loss: 1.4881775379180908 accuracy%: 95.2\n",
      "loss: 1.4927613735198975 accuracy%: 94.93\n",
      "loss: 1.501563549041748 accuracy%: 95.03\n",
      "loss: 1.531395435333252 accuracy%: 95.12\n",
      "loss: 1.5468159914016724 accuracy%: 95.28\n",
      "loss: 1.5436875820159912 accuracy%: 95.21\n",
      "loss: 1.4736838340759277 accuracy%: 94.89\n",
      "loss: 1.534505009651184 accuracy%: 95.08\n",
      "loss: 1.4888904094696045 accuracy%: 95.08\n",
      "loss: 1.4788943529129028 accuracy%: 95.19\n",
      "loss: 1.5494942665100098 accuracy%: 95.12\n",
      "loss: 1.5428959131240845 accuracy%: 95.17\n",
      "loss: 1.5033080577850342 accuracy%: 95.3\n",
      "loss: 1.4961284399032593 accuracy%: 95.13\n",
      "loss: 1.5011106729507446 accuracy%: 95.24\n",
      "loss: 1.5045132637023926 accuracy%: 95.41\n",
      "loss: 1.4929078817367554 accuracy%: 95.27\n",
      "loss: 1.5446269512176514 accuracy%: 95.11\n"
     ]
    }
   ],
   "source": [
    "#net = Mnist()\n",
    "bs = 50\n",
    "#idxs = range(0,70000,10000)\n",
    "\n",
    "x = np.random.permutation(60000)\n",
    "training_data_index = x[:60000]\n",
    "validation_data_index = x[50000:]\n",
    "test_data_index = range(60000, 70000)\n",
    "idxs = training_data_index\n",
    "\n",
    "for epoch in range(300):\n",
    "    \n",
    "    x = np.random.permutation(60000)\n",
    "    training_data_index = x[:60000]\n",
    "    validation_data_index = x[50000:]\n",
    "    test_data_index = range(60000, 70000)\n",
    "    idxs = training_data_index\n",
    "    shown = 0\n",
    "    \n",
    "    l = 0\n",
    "    test_total = 0\n",
    "    test_pred_right = 0\n",
    "    \n",
    "    for b in get_batch(idxs, bs):\n",
    "        idxs, targets, nn_imgs, nn_targets = list(zip(*b))\n",
    "\n",
    "        #i1, i2 = np.array(mnist.data[0]), np.array(mnist.data[50000])\n",
    "        #t1, t2 = (numbers == mnist.target[0]).astype(int), (numbers == mnist.target[50000]).astype(int)\n",
    "\n",
    "        input_tensor  = torch.from_numpy(np.concatenate(nn_imgs).reshape(bs,1,784))\n",
    "        target_tensor = torch.from_numpy(np.concatenate(nn_targets).reshape(bs,1,10))\n",
    "\n",
    "        input = torch.autograd.Variable(input_tensor).type(torch.FloatTensor)\n",
    "        target = torch.autograd.Variable(target_tensor).type(torch.FloatTensor)\n",
    "\n",
    "        optimizer = optim.SGD(net.parameters(), lr=0.1)\n",
    "        optimizer.zero_grad()   \n",
    "        output = net(input)\n",
    "        criterion = nn.CrossEntropyLoss()\n",
    "        t1 = target.view(-1, 10).type(torch.LongTensor)\n",
    "        t2 = torch.autograd.Variable(torch.from_numpy(np.array(targets).reshape(-1))).type(torch.LongTensor)\n",
    "        #print('shape:', output.size(), target.size(), t1.size(), output.data[0] , t1.data[0])        \n",
    "        #print('shape:', t2.size(), t2.data[0], t2.size()[1:])        \n",
    "        #print('t1', t2, output)\n",
    "        #loss = criterion(output, torch.autograd.Variable(torch.from_numpy(np.array(targets).reshape(-1, 10))).type(torch.LongTensor))\n",
    "        #loss = criterion(output.view(-1,10), target.view(-1,10).type(torch.LongTensor))        \n",
    "        loss = criterion(output, t2)       \n",
    "        l = loss\n",
    "        loss.backward() # calculate gradient\n",
    "        optimizer.step() # update weight\n",
    "    \n",
    "    for b in get_batch(test_data_index, bs):\n",
    "        idxs, targets, nn_imgs, nn_targets = list(zip(*b))\n",
    "        input_tensor  = torch.from_numpy(np.concatenate(nn_imgs).reshape(bs,1,784))\n",
    "        input = torch.autograd.Variable(input_tensor).type(torch.FloatTensor)\n",
    "        output = net(input)\n",
    "        results = np.argmax(output.data.numpy(),axis=1)\n",
    "        targets = np.asarray(targets)\n",
    "        # print('predict results', results, targets, np.sum(results == targets))        \n",
    "        #if (len(targets) - np.sum(results == targets) > 20 and shown == 0): \n",
    "        #    shown = 1\n",
    "        #    show_batch(idxs, results)\n",
    "        #    print('data:', results, targets, np.sum(results == targets))\n",
    "        test_total, test_pred_right = test_total + len(targets),  test_pred_right  + np.sum(results == targets)\n",
    "    print('loss:', l.data[0], 'accuracy%:', test_pred_right * 100. / test_total )\n",
    "    \n",
    "    \n",
    "    "
   ]
  },
  {
   "cell_type": "code",
   "execution_count": null,
   "metadata": {},
   "outputs": [],
   "source": [
    "!git gui"
   ]
  },
  {
   "cell_type": "code",
   "execution_count": null,
   "metadata": {},
   "outputs": [],
   "source": [
    "np.concatenate([[1,2,3], [4,5,6]])"
   ]
  },
  {
   "cell_type": "code",
   "execution_count": null,
   "metadata": {},
   "outputs": [],
   "source": [
    "a = np.random.rand(2,1,10)\n",
    "a"
   ]
  },
  {
   "cell_type": "code",
   "execution_count": null,
   "metadata": {},
   "outputs": [],
   "source": [
    "b = np.argmax(a,axis=2)\n",
    "b"
   ]
  },
  {
   "cell_type": "code",
   "execution_count": null,
   "metadata": {},
   "outputs": [],
   "source": [
    "np.max(b, axis=1)"
   ]
  },
  {
   "cell_type": "code",
   "execution_count": null,
   "metadata": {},
   "outputs": [],
   "source": [
    "b = np.array([1, 2, 4, 3, 5])\n",
    "a = np.array([1, 2, 3, 4, 5.])\n",
    "(a == b).sum()"
   ]
  },
  {
   "cell_type": "code",
   "execution_count": null,
   "metadata": {},
   "outputs": [],
   "source": [
    "a=3\n",
    "if (a == 3):\n",
    "    print('hi')"
   ]
  },
  {
   "cell_type": "code",
   "execution_count": null,
   "metadata": {},
   "outputs": [],
   "source": [
    "loss = nn.CrossEntropyLoss()\n",
    "input = torch.autograd.Variable(torch.randn(3, 5), requires_grad=True)     \n",
    "target = torch.autograd.Variable(torch.LongTensor(3).random_(6))\n",
    "output = loss(input, target)\n",
    "output.backward()"
   ]
  },
  {
   "cell_type": "code",
   "execution_count": null,
   "metadata": {},
   "outputs": [],
   "source": [
    "target.data"
   ]
  },
  {
   "cell_type": "code",
   "execution_count": null,
   "metadata": {},
   "outputs": [],
   "source": [
    "input.data[0]"
   ]
  },
  {
   "cell_type": "code",
   "execution_count": 31,
   "metadata": {},
   "outputs": [
    {
     "data": {
      "text/plain": [
       "50"
      ]
     },
     "execution_count": 31,
     "metadata": {},
     "output_type": "execute_result"
    }
   ],
   "source": [
    "np.argmax(output.data.numpy(),axis=1)"
   ]
  },
  {
   "cell_type": "code",
   "execution_count": 32,
   "metadata": {},
   "outputs": [
    {
     "data": {
      "text/plain": [
       "Variable containing:\n",
       " 0.9934  0.0011  0.0482  0.0245  0.0022  0.1675  0.0616  0.1211  0.0159  0.0117\n",
       " 0.9505  0.0081  0.1330  0.0778  0.0018  0.2236  0.0402  0.0055  0.1168  0.0006\n",
       " 0.9937  0.0013  0.0501  0.0252  0.0009  0.2529  0.0486  0.0396  0.0725  0.0105\n",
       " 0.9809  0.0022  0.1124  0.0184  0.0049  0.2488  0.1340  0.0381  0.0490  0.0021\n",
       " 0.9847  0.0029  0.1113  0.1001  0.0015  0.1011  0.0183  0.0645  0.0541  0.0063\n",
       " 0.9831  0.0012  0.0280  0.0897  0.0010  0.6332  0.0483  0.0268  0.1754  0.0151\n",
       " 0.9854  0.0031  0.2010  0.0246  0.0003  0.1539  0.0592  0.0357  0.0303  0.0064\n",
       " 0.9891  0.0040  0.0793  0.0376  0.0010  0.2663  0.0369  0.0269  0.0750  0.0021\n",
       " 0.9878  0.0034  0.0392  0.0230  0.0010  0.4242  0.0198  0.0196  0.1705  0.0059\n",
       " 0.7660  0.0054  0.5082  0.3918  0.0006  0.0272  0.0090  0.1221  0.0295  0.0016\n",
       " 0.9888  0.0017  0.0781  0.0344  0.0021  0.2093  0.0446  0.0216  0.0903  0.0044\n",
       " 0.9879  0.0017  0.0677  0.0242  0.0015  0.2500  0.0558  0.0165  0.1114  0.0034\n",
       " 0.9850  0.0011  0.0563  0.0424  0.0021  0.0833  0.0843  0.0495  0.0926  0.0351\n",
       " 0.9686  0.0072  0.1691  0.0553  0.0010  0.2346  0.0848  0.0108  0.0824  0.0007\n",
       " 0.9941  0.0013  0.0228  0.0406  0.0010  0.3297  0.0229  0.0675  0.0353  0.0093\n",
       " 0.9872  0.0014  0.0582  0.0237  0.0041  0.2355  0.0698  0.0590  0.0053  0.0062\n",
       " 0.9824  0.0012  0.0361  0.1370  0.0023  0.2012  0.0087  0.0907  0.0315  0.0075\n",
       " 0.9388  0.0018  0.0801  0.0674  0.0022  0.1755  0.0063  0.0555  0.0510  0.0090\n",
       " 0.9734  0.0043  0.3295  0.0318  0.0013  0.2491  0.0480  0.0192  0.1490  0.0014\n",
       " 0.9831  0.0042  0.1167  0.0475  0.0002  0.0929  0.0730  0.0754  0.0162  0.0055\n",
       " 0.9763  0.0012  0.0689  0.0910  0.0031  0.1755  0.0220  0.0652  0.0268  0.0069\n",
       " 0.9852  0.0019  0.0577  0.0443  0.0007  0.2017  0.0273  0.0296  0.0834  0.0068\n",
       " 0.9918  0.0029  0.0729  0.0469  0.0007  0.1456  0.0255  0.0576  0.0264  0.0040\n",
       " 0.9845  0.0039  0.1184  0.0315  0.0006  0.1858  0.0329  0.0226  0.0366  0.0017\n",
       " 0.8178  0.0049  0.1926  0.0793  0.0024  0.6844  0.0115  0.0123  0.5217  0.0050\n",
       " 0.9914  0.0016  0.1703  0.0467  0.0014  0.1861  0.0560  0.0723  0.0380  0.0039\n",
       " 0.9854  0.0022  0.1222  0.0148  0.0043  0.0930  0.1277  0.0380  0.0338  0.0062\n",
       " 0.9210  0.0041  0.1022  0.2803  0.0012  0.1472  0.0302  0.0655  0.0345  0.0255\n",
       " 0.9937  0.0021  0.0550  0.0394  0.0029  0.2406  0.0351  0.0745  0.0458  0.0065\n",
       " 0.9381  0.0027  0.0653  0.3145  0.0010  0.2032  0.0134  0.0720  0.2355  0.0169\n",
       " 0.9875  0.0011  0.0404  0.0560  0.0018  0.5164  0.0604  0.0135  0.1046  0.0074\n",
       " 0.9245  0.0073  0.5381  0.2557  0.0004  0.0450  0.0054  0.0562  0.0956  0.0036\n",
       " 0.9243  0.0034  0.1389  0.0664  0.0050  0.7761  0.0440  0.0118  0.3148  0.0033\n",
       " 0.9361  0.0043  0.0527  0.1948  0.0011  0.1848  0.0026  0.1182  0.0667  0.0198\n",
       " 0.9525  0.0052  0.1178  0.0554  0.0033  0.2507  0.0905  0.0070  0.1721  0.0008\n",
       " 0.9943  0.0031  0.1045  0.0382  0.0009  0.1291  0.0339  0.0796  0.0376  0.0051\n",
       " 0.9958  0.0016  0.0630  0.0293  0.0015  0.2009  0.0530  0.0664  0.0396  0.0101\n",
       " 0.7765  0.0012  0.0857  0.3397  0.0015  0.2415  0.0415  0.0485  0.5826  0.0234\n",
       " 0.9667  0.0023  0.2258  0.0221  0.0024  0.2132  0.1132  0.0074  0.1722  0.0015\n",
       " 0.9835  0.0027  0.0645  0.1052  0.0019  0.2897  0.0359  0.0245  0.0342  0.0018\n",
       " 0.9272  0.0043  0.0168  0.0013  0.0070  0.1127  0.6453  0.0297  0.0057  0.0212\n",
       " 0.7977  0.0009  0.0469  0.0135  0.0215  0.2035  0.0910  0.0130  0.5376  0.0156\n",
       " 0.9771  0.0060  0.1215  0.0380  0.0026  0.2762  0.0565  0.0128  0.1054  0.0008\n",
       " 0.9797  0.0035  0.0877  0.1493  0.0011  0.1974  0.0122  0.0379  0.0253  0.0037\n",
       " 0.9886  0.0037  0.0609  0.0224  0.0009  0.2625  0.0428  0.0184  0.0945  0.0024\n",
       " 0.8814  0.0025  0.0225  0.0414  0.0154  0.1141  0.1148  0.0755  0.1112  0.0425\n",
       " 0.9844  0.0037  0.0882  0.0415  0.0005  0.1749  0.0709  0.0416  0.0315  0.0015\n",
       " 0.9827  0.0031  0.0822  0.0960  0.0011  0.1711  0.0197  0.0343  0.0697  0.0118\n",
       " 0.9801  0.0057  0.1012  0.1940  0.0008  0.1453  0.0104  0.0486  0.0616  0.0110\n",
       " 0.9888  0.0027  0.1693  0.0308  0.0003  0.1604  0.0389  0.0287  0.0379  0.0022\n",
       "[torch.FloatTensor of size 50x10]"
      ]
     },
     "execution_count": 32,
     "metadata": {},
     "output_type": "execute_result"
    }
   ],
   "source": [
    "output"
   ]
  },
  {
   "cell_type": "code",
   "execution_count": null,
   "metadata": {},
   "outputs": [],
   "source": []
  }
 ],
 "metadata": {
  "kernelspec": {
   "display_name": "Python 3",
   "language": "python",
   "name": "python3"
  },
  "language_info": {
   "codemirror_mode": {
    "name": "ipython",
    "version": 3
   },
   "file_extension": ".py",
   "mimetype": "text/x-python",
   "name": "python",
   "nbconvert_exporter": "python",
   "pygments_lexer": "ipython3",
   "version": "3.6.4"
  }
 },
 "nbformat": 4,
 "nbformat_minor": 2
}
